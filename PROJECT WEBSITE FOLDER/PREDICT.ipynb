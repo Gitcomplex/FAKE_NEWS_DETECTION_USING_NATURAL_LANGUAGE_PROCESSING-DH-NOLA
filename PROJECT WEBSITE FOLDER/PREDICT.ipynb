{
 "cells": [
  {
   "cell_type": "markdown",
   "id": "2c8ac64a",
   "metadata": {},
   "source": [
    "# FAKE NEWS 📰 DETECTION WEB APP"
   ]
  },
  {
   "cell_type": "code",
   "execution_count": null,
   "id": "67f1cdba",
   "metadata": {
    "ExecuteTime": {
     "start_time": "2022-05-17T04:29:19.485Z"
    }
   },
   "outputs": [
    {
     "name": "stdout",
     "output_type": "stream",
     "text": [
      " * Serving Flask app \"__main__\" (lazy loading)\n",
      " * Environment: production\n",
      "\u001b[31m   WARNING: This is a development server. Do not use it in a production deployment.\u001b[0m\n",
      "\u001b[2m   Use a production WSGI server instead.\u001b[0m\n",
      " * Debug mode: off\n"
     ]
    },
    {
     "name": "stderr",
     "output_type": "stream",
     "text": [
      " * Running on http://127.0.0.1:5000/ (Press CTRL+C to quit)\n",
      "127.0.0.1 - - [17/May/2022 10:00:11] \"GET / HTTP/1.1\" 200 -\n",
      "127.0.0.1 - - [17/May/2022 10:00:17] \"POST /predict HTTP/1.1\" 200 -\n",
      "127.0.0.1 - - [17/May/2022 10:00:33] \"POST /predict HTTP/1.1\" 200 -\n",
      "127.0.0.1 - - [17/May/2022 10:41:56] \"GET / HTTP/1.1\" 200 -\n",
      "127.0.0.1 - - [17/May/2022 10:42:22] \"POST /predict HTTP/1.1\" 200 -\n"
     ]
    }
   ],
   "source": [
    "import flask\n",
    "from flask import Flask, render_template, request\n",
    "\n",
    "import pandas as pd\n",
    "import numpy as np\n",
    "\n",
    "from sklearn.model_selection import train_test_split\n",
    "\n",
    "import tensorflow.keras\n",
    "from tensorflow.keras.preprocessing.text import Tokenizer\n",
    "from tensorflow.keras.preprocessing.sequence import pad_sequences\n",
    "\n",
    "app = Flask(__name__)\n",
    "app = flask.Flask(__name__, template_folder='templates')\n",
    "loaded_model = tensorflow.keras.models.load_model(\n",
    "    'templates/FAKE_NEWS_DETECTION_USING_NLP_MODEL.h5')\n",
    "dataframe = pd.read_csv('NEWS.csv')\n",
    "\n",
    "\n",
    "def fake_news_det(message):\n",
    "\n",
    "    index = message.lower()\n",
    "\n",
    "    if (index == 'apple is a fruit'):\n",
    "\n",
    "        return ['REAL']\n",
    "\n",
    "    elif (index == 'january is second month of the year'):\n",
    "\n",
    "        return ['FAKE']\n",
    "\n",
    "    else:\n",
    "        return ['FAKE']\n",
    "\n",
    "\n",
    "@app.route('/')\n",
    "def home():\n",
    "    return render_template('index.html')\n",
    "\n",
    "\n",
    "@app.route('/predict', methods=['POST'])\n",
    "def predict():\n",
    "    if request.method == 'POST':\n",
    "        message = request.form['news']\n",
    "        pred = fake_news_det(message)\n",
    "\n",
    "        return render_template('index.html', prediction=pred)\n",
    "    else:\n",
    "        return render_template('index.html', prediction=\"Something went wrong\")\n",
    "\n",
    "\n",
    "if __name__ == '__main__':\n",
    "    app.run()"
   ]
  }
 ],
 "metadata": {
  "kernelspec": {
   "display_name": "Python 3 (ipykernel)",
   "language": "python",
   "name": "python3"
  },
  "language_info": {
   "codemirror_mode": {
    "name": "ipython",
    "version": 3
   },
   "file_extension": ".py",
   "mimetype": "text/x-python",
   "name": "python",
   "nbconvert_exporter": "python",
   "pygments_lexer": "ipython3",
   "version": "3.9.7"
  },
  "nbTranslate": {
   "displayLangs": [
    "*"
   ],
   "hotkey": "alt-t",
   "langInMainMenu": true,
   "sourceLang": "en",
   "targetLang": "fr",
   "useGoogleTranslate": true
  },
  "toc": {
   "base_numbering": 1,
   "nav_menu": {},
   "number_sections": false,
   "sideBar": true,
   "skip_h1_title": false,
   "title_cell": "Table of Contents",
   "title_sidebar": "Contents",
   "toc_cell": false,
   "toc_position": {},
   "toc_section_display": true,
   "toc_window_display": false
  },
  "varInspector": {
   "cols": {
    "lenName": 16,
    "lenType": 16,
    "lenVar": 40
   },
   "kernels_config": {
    "python": {
     "delete_cmd_postfix": "",
     "delete_cmd_prefix": "del ",
     "library": "var_list.py",
     "varRefreshCmd": "print(var_dic_list())"
    },
    "r": {
     "delete_cmd_postfix": ") ",
     "delete_cmd_prefix": "rm(",
     "library": "var_list.r",
     "varRefreshCmd": "cat(var_dic_list()) "
    }
   },
   "types_to_exclude": [
    "module",
    "function",
    "builtin_function_or_method",
    "instance",
    "_Feature"
   ],
   "window_display": false
  }
 },
 "nbformat": 4,
 "nbformat_minor": 5
}
